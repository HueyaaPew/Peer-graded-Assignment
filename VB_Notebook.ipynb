{
 "cells": [
  {
   "cell_type": "markdown",
   "id": "d4408671-941a-4eae-b29b-a77913d23d22",
   "metadata": {
    "tags": []
   },
   "source": [
    "# Peer-graded Assignment"
   ]
  },
  {
   "cell_type": "markdown",
   "id": "b5c02f18-8607-423c-b787-c12b4bee0c83",
   "metadata": {},
   "source": [
    "Welcome to my notebook!\n",
    "\n",
    "In this, I'll work on my final assignment, which will be graded by my peers.\n",
    "\n",
    "Let's get started!"
   ]
  },
  {
   "cell_type": "markdown",
   "id": "25818b5b-227a-44aa-9af1-cead6ea4c5ad",
   "metadata": {},
   "source": [
    "Data-Science languages\n",
    "1. Pyhton\n",
    "2. R\n",
    "3. SQL\n",
    "4. Julia\n",
    "5. JAVA\n",
    "6. Scala\n",
    "7. MATLAB"
   ]
  },
  {
   "cell_type": "markdown",
   "id": "1f718f0d-64eb-412d-bf75-b99ce77ccfe2",
   "metadata": {},
   "source": [
    "Data-Science libraries\n",
    "\n",
    "1. **NumPy**\n",
    "2. **Pandas**\n",
    "3. **Matplotlib**\n",
    "4. **Seaborn** \n",
    "5. **Scikit-learn**\n",
    "6. **TensorFlow** \n",
    "7. **PyTorch**\n"
   ]
  },
  {
   "cell_type": "markdown",
   "id": "d64138e3-9852-455d-8660-dddcebfb9fbe",
   "metadata": {
    "tags": []
   },
   "source": [
    "**Data Science Tools**\n",
    "\n",
    "| Category               | Tool                   |\n",
    "|------------------------|------------------------|\n",
    "| **Programming Languages** | Python               |\n",
    "|                         | R                    |\n",
    "|                         | SQL                  |\n",
    "| **Libraries**           | NumPy                |\n",
    "|                         | Pandas               |\n",
    "|                         | Matplotlib           |\n",
    "|                         | PyTorch              |\n",
    "| **Visualization**       | Tableau              |\n",
    "|                         | Power BI             |\n",
    "| **Database Systems**    | MySQL               |\n",
    "|                         | PostgreSQL          \n",
    "|                         | MongoDB             |\n"
   ]
  },
  {
   "cell_type": "markdown",
   "id": "d2dc195d-aef2-4d55-b058-a0320b3b932c",
   "metadata": {
    "tags": []
   },
   "source": [
    "**Arithmetic Expression Examples**\n",
    "\n",
    "a = 6\n",
    "b = 2\n",
    "\n",
    "- addition= a+b\n",
    "    (Output = 8)\n",
    "\n",
    "- subtraction= a-b\n",
    "    (Output = 4)\n",
    "- Multiplication = a*b\n",
    "    (Output = 12)\n",
    "- Division = a/b\n",
    "    (Output = 3)"
   ]
  },
  {
   "cell_type": "code",
   "execution_count": 18,
   "id": "728ac3d5-1e24-47a2-b951-40132a75ee0d",
   "metadata": {
    "tags": []
   },
   "outputs": [
    {
     "name": "stdout",
     "output_type": "stream",
     "text": [
      "Addition:  7  \n",
      "  Multiplication:  10\n"
     ]
    }
   ],
   "source": [
    "a= 5\n",
    "b= 2\n",
    "Add = a+b\n",
    "Multiply = a*b\n",
    "print('Addition: ', Add,' \\n ', 'Multiplication: ',Multiply)"
   ]
  },
  {
   "cell_type": "code",
   "execution_count": 17,
   "id": "9b7787cd-f47d-419c-9913-0e1cbf82f3fe",
   "metadata": {
    "tags": []
   },
   "outputs": [
    {
     "name": "stdin",
     "output_type": "stream",
     "text": [
      "Enter minutes here 120\n"
     ]
    },
    {
     "name": "stdout",
     "output_type": "stream",
     "text": [
      "120  minutes is equal to  2.0  hours.\n"
     ]
    }
   ],
   "source": [
    "# Convert Minutes to Hours\n",
    "\n",
    "minutes = int(input('Enter minutes here'))\n",
    "hours = minutes / 60\n",
    "print(minutes,  \" minutes is equal to \", hours  ,\" hours.\")\n"
   ]
  },
  {
   "cell_type": "markdown",
   "id": "495fca88-79a7-44e2-b059-e9b47a4ed3cd",
   "metadata": {},
   "source": [
    "**Objectives**\n",
    "\n",
    "In this notebook, our main objectives are:\n",
    "\n",
    "- **Explore Arithmetic Expressions:** Basic arithmetic expressions involving addition, subtraction, multiplication, and division.\n",
    "\n",
    "- **Convert Units:** Converting minutes to hours as an example.\n",
    "\n",
    "- **Introduce Data Science Tools:** List of common programming languages, libraries, and tools used in the field of data science.\n"
   ]
  },
  {
   "cell_type": "markdown",
   "id": "af6a70ae-2d13-43a3-a29d-bc71a0fb3e66",
   "metadata": {
    "tags": []
   },
   "source": [
    "# Author\n",
    "\n",
    "This notebook was created by [Vaibhav Bhatt].\n"
   ]
  }
 ],
 "metadata": {
  "kernelspec": {
   "display_name": "Python",
   "language": "python",
   "name": "conda-env-python-py"
  },
  "language_info": {
   "codemirror_mode": {
    "name": "ipython",
    "version": 3
   },
   "file_extension": ".py",
   "mimetype": "text/x-python",
   "name": "python",
   "nbconvert_exporter": "python",
   "pygments_lexer": "ipython3",
   "version": "3.7.12"
  }
 },
 "nbformat": 4,
 "nbformat_minor": 5
}
